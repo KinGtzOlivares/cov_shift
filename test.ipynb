{
 "cells": [
  {
   "cell_type": "code",
   "execution_count": 2,
   "metadata": {
    "collapsed": true
   },
   "outputs": [],
   "source": [
    "import numpy as np\n",
    "from sklearn import svm\n",
    "from sklearn.discriminant_analysis import QuadraticDiscriminantAnalysis\n",
    "import matplotlib.pyplot as plt\n",
    "from scipy.spatial import ConvexHull\n",
    "\n",
    "import utils.get_data as data\n",
    "import utils.plots as plots\n",
    "\n",
    "from IPython.display import Image, display, HTML"
   ]
  },
  {
   "cell_type": "code",
   "execution_count": 3,
   "metadata": {},
   "outputs": [],
   "source": [
    "np.random.seed(seed=1234)\n",
    "root = '/Users/kdgutier/Desktop/cov_shift/'\n",
    "\n",
    "n_clusters = 6\n",
    "X, Y, V = data.load_data_experiment(n_clusters, path=(root + 'data/'))\n",
    "plots.graph_data_experiment(n_clusters, X, Y, V, path=(root+'images/experiment2.png') )\n",
    "\n",
    "datos = data.split_data_experiment(n_clusters, X, Y)\n",
    "propscores = qda_propscores(n_clusters, datos)\n",
    "plots.graph_first_stage(n_clusters, df=datos, V=V, propscores=propscores, path=(root+'images/experiment_1stage.png'))"
   ]
  },
  {
   "cell_type": "code",
   "execution_count": null,
   "metadata": {
    "collapsed": true
   },
   "outputs": [],
   "source": [
    "def qda_propscores(n_clusters, df):\n",
    "    # data\n",
    "    X_propscore, y_propscore = df['X_propscore'], df['y_propscore']\n",
    "    X_train, y_train = df['X_train'], df['y_train']\n",
    "    # lda for the propscore training\n",
    "    X_ps, y_ps, proxy_clusters = data.parse_data_propscore(n_clusters, X_propscore, y_propscore)\n",
    "    model = QuadraticDiscriminantAnalysis(reg_param=0.0).fit(X_ps, proxy_clusters)\n",
    "    # lda propscores for actual training\n",
    "    X_train_ps, y_train_ps, _ = data.parse_data_propscore(n_clusters, X_train, y_train)\n",
    "    # inference\n",
    "    propscores = model.predict_proba(X_train_ps)\n",
    "    return propscores"
   ]
  },
  {
   "cell_type": "code",
   "execution_count": 4,
   "metadata": {
    "collapsed": true
   },
   "outputs": [],
   "source": []
  },
  {
   "cell_type": "code",
   "execution_count": 5,
   "metadata": {},
   "outputs": [],
   "source": [
    "n_clusters=6\n",
    "propscores = qda_propscores(n_clusters, datos)\n",
    "plots.graph_first_stage(n_clusters, df=datos, V=V, propscores=propscores, path=(root+'images/experiment_1stage.png'))"
   ]
  },
  {
   "cell_type": "code",
   "execution_count": null,
   "metadata": {
    "collapsed": true
   },
   "outputs": [],
   "source": []
  }
 ],
 "metadata": {
  "kernelspec": {
   "display_name": "Python 2",
   "language": "python",
   "name": "python2"
  },
  "language_info": {
   "codemirror_mode": {
    "name": "ipython",
    "version": 2
   },
   "file_extension": ".py",
   "mimetype": "text/x-python",
   "name": "python",
   "nbconvert_exporter": "python",
   "pygments_lexer": "ipython2",
   "version": "2.7.14"
  }
 },
 "nbformat": 4,
 "nbformat_minor": 2
}
